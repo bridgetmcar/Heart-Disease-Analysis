{
 "cells": [
  {
   "cell_type": "markdown",
   "metadata": {},
   "source": [
    "## Final Project Submission\n",
    "\n",
    "Please fill out:\n",
    "* Student name: Bridget Carson\n",
    "* Student pace: self paced / part time / full time\n",
    "* Scheduled project review date/time: \n",
    "* Instructor name: \n",
    "* Blog post URL:\n"
   ]
  },
  {
   "cell_type": "code",
   "execution_count": 1,
   "metadata": {},
   "outputs": [],
   "source": [
    "# import \n",
    "\n",
    "import pandas as pd\n",
    "import numpy as np\n",
    "import matplotlib.pyplot as plt\n",
    "import seaborn as sns\n",
    "%matplotlib inline\n",
    "from sklearn.preprocessing import LabelEncoder, StandardScaler\n",
    "from sklearn.model_selection import train_test_split\n",
    "from imblearn.over_sampling import RandomOverSampler, SMOTE\n",
    "from xgboost import XGBClassifier\n",
    "from sklearn.linear_model import LogisticRegression\n",
    "import statsmodels.api as sm\n",
    "from sklearn.preprocessing import MinMaxScaler\n",
    "from sklearn.decomposition import PCA\n",
    "from sklearn.ensemble import RandomForestClassifier, BaggingClassifier, AdaBoostClassifier\n",
    "from sklearn.metrics import roc_auc_score\n",
    "from imblearn.ensemble import EasyEnsembleClassifier\n",
    "from sklearn.metrics import confusion_matrix\n",
    "from sklearn.metrics import classification_report\n",
    "from collections import Counter\n",
    "from sklearn import metrics\n",
    "from sklearn.metrics import accuracy_score, precision_score, recall_score, f1_score\n",
    "import warnings \n",
    "warnings.filterwarnings(\"ignore\")"
   ]
  },
  {
   "cell_type": "markdown",
   "metadata": {},
   "source": [
    "The dataset was available on Kaggle \n",
    "https://www.kaggle.com/datasets/kamilpytlak/personal-key-indicators-of-heart-disease"
   ]
  },
  {
   "cell_type": "code",
   "execution_count": 2,
   "metadata": {},
   "outputs": [],
   "source": [
    "data = pd.read_csv('data\\heart_2020_cleaned.csv')"
   ]
  },
  {
   "cell_type": "markdown",
   "metadata": {},
   "source": [
    "# Data Cleaning"
   ]
  },
  {
   "cell_type": "code",
   "execution_count": 41,
   "metadata": {},
   "outputs": [
    {
     "name": "stdout",
     "output_type": "stream",
     "text": [
      "<class 'pandas.core.frame.DataFrame'>\n",
      "RangeIndex: 319795 entries, 0 to 319794\n",
      "Data columns (total 18 columns):\n",
      " #   Column            Non-Null Count   Dtype  \n",
      "---  ------            --------------   -----  \n",
      " 0   HeartDisease      319795 non-null  object \n",
      " 1   BMI               319795 non-null  float64\n",
      " 2   Smoking           319795 non-null  object \n",
      " 3   AlcoholDrinking   319795 non-null  object \n",
      " 4   Stroke            319795 non-null  object \n",
      " 5   PhysicalHealth    319795 non-null  float64\n",
      " 6   MentalHealth      319795 non-null  float64\n",
      " 7   DiffWalking       319795 non-null  object \n",
      " 8   Sex               319795 non-null  object \n",
      " 9   AgeCategory       319795 non-null  object \n",
      " 10  Race              319795 non-null  object \n",
      " 11  Diabetic          319795 non-null  object \n",
      " 12  PhysicalActivity  319795 non-null  object \n",
      " 13  GenHealth         319795 non-null  object \n",
      " 14  SleepTime         319795 non-null  float64\n",
      " 15  Asthma            319795 non-null  object \n",
      " 16  KidneyDisease     319795 non-null  object \n",
      " 17  SkinCancer        319795 non-null  object \n",
      "dtypes: float64(4), object(14)\n",
      "memory usage: 43.9+ MB\n"
     ]
    }
   ],
   "source": [
    "data.info()"
   ]
  },
  {
   "cell_type": "code",
   "execution_count": 3,
   "metadata": {},
   "outputs": [
    {
     "data": {
      "text/plain": [
       "HeartDisease        0\n",
       "BMI                 0\n",
       "Smoking             0\n",
       "AlcoholDrinking     0\n",
       "Stroke              0\n",
       "PhysicalHealth      0\n",
       "MentalHealth        0\n",
       "DiffWalking         0\n",
       "Sex                 0\n",
       "AgeCategory         0\n",
       "Race                0\n",
       "Diabetic            0\n",
       "PhysicalActivity    0\n",
       "GenHealth           0\n",
       "SleepTime           0\n",
       "Asthma              0\n",
       "KidneyDisease       0\n",
       "SkinCancer          0\n",
       "dtype: int64"
      ]
     },
     "execution_count": 3,
     "metadata": {},
     "output_type": "execute_result"
    }
   ],
   "source": [
    "#check for nulls - none\n",
    "data.isnull().sum()"
   ]
  },
  {
   "cell_type": "code",
   "execution_count": 4,
   "metadata": {},
   "outputs": [
    {
     "data": {
      "text/plain": [
       "18078"
      ]
     },
     "execution_count": 4,
     "metadata": {},
     "output_type": "execute_result"
    }
   ],
   "source": [
    "data.duplicated().sum()"
   ]
  },
  {
   "cell_type": "code",
   "execution_count": 5,
   "metadata": {},
   "outputs": [],
   "source": [
    "#drop duplicates\n",
    "data = data.drop_duplicates()"
   ]
  },
  {
   "cell_type": "code",
   "execution_count": 6,
   "metadata": {},
   "outputs": [
    {
     "name": "stdout",
     "output_type": "stream",
     "text": [
      "<class 'pandas.core.frame.DataFrame'>\n",
      "Index: 301717 entries, 0 to 319794\n",
      "Data columns (total 18 columns):\n",
      " #   Column            Non-Null Count   Dtype  \n",
      "---  ------            --------------   -----  \n",
      " 0   HeartDisease      301717 non-null  object \n",
      " 1   BMI               301717 non-null  float64\n",
      " 2   Smoking           301717 non-null  object \n",
      " 3   AlcoholDrinking   301717 non-null  object \n",
      " 4   Stroke            301717 non-null  object \n",
      " 5   PhysicalHealth    301717 non-null  float64\n",
      " 6   MentalHealth      301717 non-null  float64\n",
      " 7   DiffWalking       301717 non-null  object \n",
      " 8   Sex               301717 non-null  object \n",
      " 9   AgeCategory       301717 non-null  object \n",
      " 10  Race              301717 non-null  object \n",
      " 11  Diabetic          301717 non-null  object \n",
      " 12  PhysicalActivity  301717 non-null  object \n",
      " 13  GenHealth         301717 non-null  object \n",
      " 14  SleepTime         301717 non-null  float64\n",
      " 15  Asthma            301717 non-null  object \n",
      " 16  KidneyDisease     301717 non-null  object \n",
      " 17  SkinCancer        301717 non-null  object \n",
      "dtypes: float64(4), object(14)\n",
      "memory usage: 43.7+ MB\n"
     ]
    }
   ],
   "source": [
    "data.info()"
   ]
  },
  {
   "cell_type": "code",
   "execution_count": 7,
   "metadata": {},
   "outputs": [],
   "source": [
    "#change categorical columns to numerical \n",
    "categorical=['HeartDisease','Smoking','AlcoholDrinking','Stroke','DiffWalking','Sex','AgeCategory','Diabetic','PhysicalActivity','Asthma','KidneyDisease','SkinCancer']\n"
   ]
  },
  {
   "cell_type": "code",
   "execution_count": 8,
   "metadata": {},
   "outputs": [
    {
     "name": "stdout",
     "output_type": "stream",
     "text": [
      "['No' 'Yes']\n",
      "['Yes' 'No']\n",
      "['No' 'Yes']\n",
      "['No' 'Yes']\n",
      "['No' 'Yes']\n",
      "['Female' 'Male']\n",
      "['55-59' '80 or older' '65-69' '75-79' '40-44' '70-74' '60-64' '50-54'\n",
      " '45-49' '18-24' '35-39' '30-34' '25-29']\n",
      "['Yes' 'No' 'No, borderline diabetes' 'Yes (during pregnancy)']\n",
      "['Yes' 'No']\n",
      "['Yes' 'No']\n",
      "['No' 'Yes']\n",
      "['Yes' 'No']\n"
     ]
    }
   ],
   "source": [
    "for col in categorical:\n",
    "    print(data[col].unique())"
   ]
  },
  {
   "cell_type": "code",
   "execution_count": 9,
   "metadata": {},
   "outputs": [],
   "source": [
    "E=data[categorical]\n",
    "E=E.apply(LabelEncoder().fit_transform)\n",
    "data.update(E)"
   ]
  },
  {
   "cell_type": "code",
   "execution_count": 10,
   "metadata": {},
   "outputs": [
    {
     "name": "stdout",
     "output_type": "stream",
     "text": [
      "[0 1]\n",
      "[1 0]\n",
      "[0 1]\n",
      "[0 1]\n",
      "[0 1]\n",
      "[0 1]\n",
      "[7 12 9 11 4 10 8 6 5 0 3 2 1]\n",
      "[2 0 1 3]\n",
      "[1 0]\n",
      "[1 0]\n",
      "[0 1]\n",
      "[1 0]\n"
     ]
    }
   ],
   "source": [
    "for col in categorical:\n",
    "    print(data[col].unique())"
   ]
  },
  {
   "cell_type": "code",
   "execution_count": 11,
   "metadata": {},
   "outputs": [
    {
     "data": {
      "text/plain": [
       "GenHealth\n",
       "Very good    104796\n",
       "Good          91239\n",
       "Excellent     59737\n",
       "Fair          34659\n",
       "Poor          11286\n",
       "Name: count, dtype: int64"
      ]
     },
     "execution_count": 11,
     "metadata": {},
     "output_type": "execute_result"
    }
   ],
   "source": [
    "#change remainder to dummy columns\n",
    "data['GenHealth'].value_counts()"
   ]
  },
  {
   "cell_type": "code",
   "execution_count": 12,
   "metadata": {},
   "outputs": [],
   "source": [
    "dummies = pd.get_dummies(data.GenHealth, dtype=int, drop_first=True, prefix='gen_hth')\n",
    "data = pd.concat([data, dummies], axis='columns')\n",
    "data = data.drop(['GenHealth'], axis = 'columns')"
   ]
  },
  {
   "cell_type": "code",
   "execution_count": 13,
   "metadata": {},
   "outputs": [
    {
     "data": {
      "text/plain": [
       "Race\n",
       "White                             227724\n",
       "Hispanic                           27107\n",
       "Black                              22810\n",
       "Other                              10891\n",
       "Asian                               7993\n",
       "American Indian/Alaskan Native      5192\n",
       "Name: count, dtype: int64"
      ]
     },
     "execution_count": 13,
     "metadata": {},
     "output_type": "execute_result"
    }
   ],
   "source": [
    "data['Race'].value_counts()"
   ]
  },
  {
   "cell_type": "code",
   "execution_count": 14,
   "metadata": {},
   "outputs": [],
   "source": [
    "dummies = pd.get_dummies(data.Race, dtype=int)\n",
    "data = pd.concat([data, dummies], axis='columns')\n",
    "data = data.drop(['Race', 'Other'], axis = 'columns')"
   ]
  },
  {
   "cell_type": "code",
   "execution_count": 15,
   "metadata": {},
   "outputs": [],
   "source": [
    "#combine 13+ hours sleep to reduce outliers\n",
    "data.loc[data.SleepTime >= 13, 'SleepTime'] = 13"
   ]
  },
  {
   "cell_type": "code",
   "execution_count": 16,
   "metadata": {},
   "outputs": [
    {
     "data": {
      "text/plain": [
       "SleepTime\n",
       "8.0     90202\n",
       "7.0     89445\n",
       "6.0     64655\n",
       "5.0     19101\n",
       "9.0     15853\n",
       "10.0     7782\n",
       "4.0      7730\n",
       "12.0     2204\n",
       "3.0      1992\n",
       "13.0      999\n",
       "2.0       788\n",
       "1.0       551\n",
       "11.0      415\n",
       "Name: count, dtype: int64"
      ]
     },
     "execution_count": 16,
     "metadata": {},
     "output_type": "execute_result"
    }
   ],
   "source": [
    "data['SleepTime'].value_counts()"
   ]
  },
  {
   "cell_type": "code",
   "execution_count": 17,
   "metadata": {},
   "outputs": [],
   "source": [
    "data = data.apply(pd.to_numeric)"
   ]
  },
  {
   "cell_type": "code",
   "execution_count": 18,
   "metadata": {},
   "outputs": [
    {
     "data": {
      "text/html": [
       "<div>\n",
       "<style scoped>\n",
       "    .dataframe tbody tr th:only-of-type {\n",
       "        vertical-align: middle;\n",
       "    }\n",
       "\n",
       "    .dataframe tbody tr th {\n",
       "        vertical-align: top;\n",
       "    }\n",
       "\n",
       "    .dataframe thead th {\n",
       "        text-align: right;\n",
       "    }\n",
       "</style>\n",
       "<table border=\"1\" class=\"dataframe\">\n",
       "  <thead>\n",
       "    <tr style=\"text-align: right;\">\n",
       "      <th></th>\n",
       "      <th>HeartDisease</th>\n",
       "      <th>BMI</th>\n",
       "      <th>Smoking</th>\n",
       "      <th>AlcoholDrinking</th>\n",
       "      <th>Stroke</th>\n",
       "      <th>PhysicalHealth</th>\n",
       "      <th>MentalHealth</th>\n",
       "      <th>DiffWalking</th>\n",
       "      <th>Sex</th>\n",
       "      <th>AgeCategory</th>\n",
       "      <th>...</th>\n",
       "      <th>SkinCancer</th>\n",
       "      <th>gen_hth_Fair</th>\n",
       "      <th>gen_hth_Good</th>\n",
       "      <th>gen_hth_Poor</th>\n",
       "      <th>gen_hth_Very good</th>\n",
       "      <th>American Indian/Alaskan Native</th>\n",
       "      <th>Asian</th>\n",
       "      <th>Black</th>\n",
       "      <th>Hispanic</th>\n",
       "      <th>White</th>\n",
       "    </tr>\n",
       "  </thead>\n",
       "  <tbody>\n",
       "    <tr>\n",
       "      <th>count</th>\n",
       "      <td>301717.000000</td>\n",
       "      <td>301717.000000</td>\n",
       "      <td>301717.000000</td>\n",
       "      <td>301717.000000</td>\n",
       "      <td>301717.000000</td>\n",
       "      <td>301717.000000</td>\n",
       "      <td>301717.000000</td>\n",
       "      <td>301717.000000</td>\n",
       "      <td>301717.000000</td>\n",
       "      <td>301717.000000</td>\n",
       "      <td>...</td>\n",
       "      <td>301717.000000</td>\n",
       "      <td>301717.000000</td>\n",
       "      <td>301717.000000</td>\n",
       "      <td>301717.000000</td>\n",
       "      <td>301717.000000</td>\n",
       "      <td>301717.000000</td>\n",
       "      <td>301717.000000</td>\n",
       "      <td>301717.000000</td>\n",
       "      <td>301717.000000</td>\n",
       "      <td>301717.00000</td>\n",
       "    </tr>\n",
       "    <tr>\n",
       "      <th>mean</th>\n",
       "      <td>0.090353</td>\n",
       "      <td>28.441970</td>\n",
       "      <td>0.422267</td>\n",
       "      <td>0.071527</td>\n",
       "      <td>0.039984</td>\n",
       "      <td>3.572298</td>\n",
       "      <td>4.121475</td>\n",
       "      <td>0.147009</td>\n",
       "      <td>0.470792</td>\n",
       "      <td>6.509408</td>\n",
       "      <td>...</td>\n",
       "      <td>0.097084</td>\n",
       "      <td>0.114873</td>\n",
       "      <td>0.302399</td>\n",
       "      <td>0.037406</td>\n",
       "      <td>0.347332</td>\n",
       "      <td>0.017208</td>\n",
       "      <td>0.026492</td>\n",
       "      <td>0.075601</td>\n",
       "      <td>0.089842</td>\n",
       "      <td>0.75476</td>\n",
       "    </tr>\n",
       "    <tr>\n",
       "      <th>std</th>\n",
       "      <td>0.286687</td>\n",
       "      <td>6.468134</td>\n",
       "      <td>0.493921</td>\n",
       "      <td>0.257704</td>\n",
       "      <td>0.195923</td>\n",
       "      <td>8.140656</td>\n",
       "      <td>8.128288</td>\n",
       "      <td>0.354115</td>\n",
       "      <td>0.499147</td>\n",
       "      <td>3.584510</td>\n",
       "      <td>...</td>\n",
       "      <td>0.296073</td>\n",
       "      <td>0.318869</td>\n",
       "      <td>0.459298</td>\n",
       "      <td>0.189755</td>\n",
       "      <td>0.476123</td>\n",
       "      <td>0.130047</td>\n",
       "      <td>0.160593</td>\n",
       "      <td>0.264359</td>\n",
       "      <td>0.285956</td>\n",
       "      <td>0.43023</td>\n",
       "    </tr>\n",
       "    <tr>\n",
       "      <th>min</th>\n",
       "      <td>0.000000</td>\n",
       "      <td>12.020000</td>\n",
       "      <td>0.000000</td>\n",
       "      <td>0.000000</td>\n",
       "      <td>0.000000</td>\n",
       "      <td>0.000000</td>\n",
       "      <td>0.000000</td>\n",
       "      <td>0.000000</td>\n",
       "      <td>0.000000</td>\n",
       "      <td>0.000000</td>\n",
       "      <td>...</td>\n",
       "      <td>0.000000</td>\n",
       "      <td>0.000000</td>\n",
       "      <td>0.000000</td>\n",
       "      <td>0.000000</td>\n",
       "      <td>0.000000</td>\n",
       "      <td>0.000000</td>\n",
       "      <td>0.000000</td>\n",
       "      <td>0.000000</td>\n",
       "      <td>0.000000</td>\n",
       "      <td>0.00000</td>\n",
       "    </tr>\n",
       "    <tr>\n",
       "      <th>25%</th>\n",
       "      <td>0.000000</td>\n",
       "      <td>24.030000</td>\n",
       "      <td>0.000000</td>\n",
       "      <td>0.000000</td>\n",
       "      <td>0.000000</td>\n",
       "      <td>0.000000</td>\n",
       "      <td>0.000000</td>\n",
       "      <td>0.000000</td>\n",
       "      <td>0.000000</td>\n",
       "      <td>4.000000</td>\n",
       "      <td>...</td>\n",
       "      <td>0.000000</td>\n",
       "      <td>0.000000</td>\n",
       "      <td>0.000000</td>\n",
       "      <td>0.000000</td>\n",
       "      <td>0.000000</td>\n",
       "      <td>0.000000</td>\n",
       "      <td>0.000000</td>\n",
       "      <td>0.000000</td>\n",
       "      <td>0.000000</td>\n",
       "      <td>1.00000</td>\n",
       "    </tr>\n",
       "    <tr>\n",
       "      <th>50%</th>\n",
       "      <td>0.000000</td>\n",
       "      <td>27.410000</td>\n",
       "      <td>0.000000</td>\n",
       "      <td>0.000000</td>\n",
       "      <td>0.000000</td>\n",
       "      <td>0.000000</td>\n",
       "      <td>0.000000</td>\n",
       "      <td>0.000000</td>\n",
       "      <td>0.000000</td>\n",
       "      <td>7.000000</td>\n",
       "      <td>...</td>\n",
       "      <td>0.000000</td>\n",
       "      <td>0.000000</td>\n",
       "      <td>0.000000</td>\n",
       "      <td>0.000000</td>\n",
       "      <td>0.000000</td>\n",
       "      <td>0.000000</td>\n",
       "      <td>0.000000</td>\n",
       "      <td>0.000000</td>\n",
       "      <td>0.000000</td>\n",
       "      <td>1.00000</td>\n",
       "    </tr>\n",
       "    <tr>\n",
       "      <th>75%</th>\n",
       "      <td>0.000000</td>\n",
       "      <td>31.650000</td>\n",
       "      <td>1.000000</td>\n",
       "      <td>0.000000</td>\n",
       "      <td>0.000000</td>\n",
       "      <td>2.000000</td>\n",
       "      <td>4.000000</td>\n",
       "      <td>0.000000</td>\n",
       "      <td>1.000000</td>\n",
       "      <td>9.000000</td>\n",
       "      <td>...</td>\n",
       "      <td>0.000000</td>\n",
       "      <td>0.000000</td>\n",
       "      <td>1.000000</td>\n",
       "      <td>0.000000</td>\n",
       "      <td>1.000000</td>\n",
       "      <td>0.000000</td>\n",
       "      <td>0.000000</td>\n",
       "      <td>0.000000</td>\n",
       "      <td>0.000000</td>\n",
       "      <td>1.00000</td>\n",
       "    </tr>\n",
       "    <tr>\n",
       "      <th>max</th>\n",
       "      <td>1.000000</td>\n",
       "      <td>94.850000</td>\n",
       "      <td>1.000000</td>\n",
       "      <td>1.000000</td>\n",
       "      <td>1.000000</td>\n",
       "      <td>30.000000</td>\n",
       "      <td>30.000000</td>\n",
       "      <td>1.000000</td>\n",
       "      <td>1.000000</td>\n",
       "      <td>12.000000</td>\n",
       "      <td>...</td>\n",
       "      <td>1.000000</td>\n",
       "      <td>1.000000</td>\n",
       "      <td>1.000000</td>\n",
       "      <td>1.000000</td>\n",
       "      <td>1.000000</td>\n",
       "      <td>1.000000</td>\n",
       "      <td>1.000000</td>\n",
       "      <td>1.000000</td>\n",
       "      <td>1.000000</td>\n",
       "      <td>1.00000</td>\n",
       "    </tr>\n",
       "  </tbody>\n",
       "</table>\n",
       "<p>8 rows × 25 columns</p>\n",
       "</div>"
      ],
      "text/plain": [
       "        HeartDisease            BMI        Smoking  AlcoholDrinking  \\\n",
       "count  301717.000000  301717.000000  301717.000000    301717.000000   \n",
       "mean        0.090353      28.441970       0.422267         0.071527   \n",
       "std         0.286687       6.468134       0.493921         0.257704   \n",
       "min         0.000000      12.020000       0.000000         0.000000   \n",
       "25%         0.000000      24.030000       0.000000         0.000000   \n",
       "50%         0.000000      27.410000       0.000000         0.000000   \n",
       "75%         0.000000      31.650000       1.000000         0.000000   \n",
       "max         1.000000      94.850000       1.000000         1.000000   \n",
       "\n",
       "              Stroke  PhysicalHealth   MentalHealth    DiffWalking  \\\n",
       "count  301717.000000   301717.000000  301717.000000  301717.000000   \n",
       "mean        0.039984        3.572298       4.121475       0.147009   \n",
       "std         0.195923        8.140656       8.128288       0.354115   \n",
       "min         0.000000        0.000000       0.000000       0.000000   \n",
       "25%         0.000000        0.000000       0.000000       0.000000   \n",
       "50%         0.000000        0.000000       0.000000       0.000000   \n",
       "75%         0.000000        2.000000       4.000000       0.000000   \n",
       "max         1.000000       30.000000      30.000000       1.000000   \n",
       "\n",
       "                 Sex    AgeCategory  ...     SkinCancer   gen_hth_Fair  \\\n",
       "count  301717.000000  301717.000000  ...  301717.000000  301717.000000   \n",
       "mean        0.470792       6.509408  ...       0.097084       0.114873   \n",
       "std         0.499147       3.584510  ...       0.296073       0.318869   \n",
       "min         0.000000       0.000000  ...       0.000000       0.000000   \n",
       "25%         0.000000       4.000000  ...       0.000000       0.000000   \n",
       "50%         0.000000       7.000000  ...       0.000000       0.000000   \n",
       "75%         1.000000       9.000000  ...       0.000000       0.000000   \n",
       "max         1.000000      12.000000  ...       1.000000       1.000000   \n",
       "\n",
       "        gen_hth_Good   gen_hth_Poor  gen_hth_Very good  \\\n",
       "count  301717.000000  301717.000000      301717.000000   \n",
       "mean        0.302399       0.037406           0.347332   \n",
       "std         0.459298       0.189755           0.476123   \n",
       "min         0.000000       0.000000           0.000000   \n",
       "25%         0.000000       0.000000           0.000000   \n",
       "50%         0.000000       0.000000           0.000000   \n",
       "75%         1.000000       0.000000           1.000000   \n",
       "max         1.000000       1.000000           1.000000   \n",
       "\n",
       "       American Indian/Alaskan Native          Asian          Black  \\\n",
       "count                   301717.000000  301717.000000  301717.000000   \n",
       "mean                         0.017208       0.026492       0.075601   \n",
       "std                          0.130047       0.160593       0.264359   \n",
       "min                          0.000000       0.000000       0.000000   \n",
       "25%                          0.000000       0.000000       0.000000   \n",
       "50%                          0.000000       0.000000       0.000000   \n",
       "75%                          0.000000       0.000000       0.000000   \n",
       "max                          1.000000       1.000000       1.000000   \n",
       "\n",
       "            Hispanic         White  \n",
       "count  301717.000000  301717.00000  \n",
       "mean        0.089842       0.75476  \n",
       "std         0.285956       0.43023  \n",
       "min         0.000000       0.00000  \n",
       "25%         0.000000       1.00000  \n",
       "50%         0.000000       1.00000  \n",
       "75%         0.000000       1.00000  \n",
       "max         1.000000       1.00000  \n",
       "\n",
       "[8 rows x 25 columns]"
      ]
     },
     "execution_count": 18,
     "metadata": {},
     "output_type": "execute_result"
    }
   ],
   "source": [
    "#final dataset\n",
    "data.describe()"
   ]
  },
  {
   "cell_type": "code",
   "execution_count": 19,
   "metadata": {},
   "outputs": [
    {
     "data": {
      "text/html": [
       "<div>\n",
       "<style scoped>\n",
       "    .dataframe tbody tr th:only-of-type {\n",
       "        vertical-align: middle;\n",
       "    }\n",
       "\n",
       "    .dataframe tbody tr th {\n",
       "        vertical-align: top;\n",
       "    }\n",
       "\n",
       "    .dataframe thead th {\n",
       "        text-align: right;\n",
       "    }\n",
       "</style>\n",
       "<table border=\"1\" class=\"dataframe\">\n",
       "  <thead>\n",
       "    <tr style=\"text-align: right;\">\n",
       "      <th></th>\n",
       "      <th>HeartDisease</th>\n",
       "      <th>BMI</th>\n",
       "      <th>Smoking</th>\n",
       "      <th>AlcoholDrinking</th>\n",
       "      <th>Stroke</th>\n",
       "      <th>PhysicalHealth</th>\n",
       "      <th>MentalHealth</th>\n",
       "      <th>DiffWalking</th>\n",
       "      <th>Sex</th>\n",
       "      <th>AgeCategory</th>\n",
       "      <th>...</th>\n",
       "      <th>SkinCancer</th>\n",
       "      <th>gen_hth_Fair</th>\n",
       "      <th>gen_hth_Good</th>\n",
       "      <th>gen_hth_Poor</th>\n",
       "      <th>gen_hth_Very good</th>\n",
       "      <th>American Indian/Alaskan Native</th>\n",
       "      <th>Asian</th>\n",
       "      <th>Black</th>\n",
       "      <th>Hispanic</th>\n",
       "      <th>White</th>\n",
       "    </tr>\n",
       "  </thead>\n",
       "  <tbody>\n",
       "    <tr>\n",
       "      <th>0</th>\n",
       "      <td>0</td>\n",
       "      <td>16.60</td>\n",
       "      <td>1</td>\n",
       "      <td>0</td>\n",
       "      <td>0</td>\n",
       "      <td>3.0</td>\n",
       "      <td>30.0</td>\n",
       "      <td>0</td>\n",
       "      <td>0</td>\n",
       "      <td>7</td>\n",
       "      <td>...</td>\n",
       "      <td>1</td>\n",
       "      <td>0</td>\n",
       "      <td>0</td>\n",
       "      <td>0</td>\n",
       "      <td>1</td>\n",
       "      <td>0</td>\n",
       "      <td>0</td>\n",
       "      <td>0</td>\n",
       "      <td>0</td>\n",
       "      <td>1</td>\n",
       "    </tr>\n",
       "    <tr>\n",
       "      <th>1</th>\n",
       "      <td>0</td>\n",
       "      <td>20.34</td>\n",
       "      <td>0</td>\n",
       "      <td>0</td>\n",
       "      <td>1</td>\n",
       "      <td>0.0</td>\n",
       "      <td>0.0</td>\n",
       "      <td>0</td>\n",
       "      <td>0</td>\n",
       "      <td>12</td>\n",
       "      <td>...</td>\n",
       "      <td>0</td>\n",
       "      <td>0</td>\n",
       "      <td>0</td>\n",
       "      <td>0</td>\n",
       "      <td>1</td>\n",
       "      <td>0</td>\n",
       "      <td>0</td>\n",
       "      <td>0</td>\n",
       "      <td>0</td>\n",
       "      <td>1</td>\n",
       "    </tr>\n",
       "    <tr>\n",
       "      <th>2</th>\n",
       "      <td>0</td>\n",
       "      <td>26.58</td>\n",
       "      <td>1</td>\n",
       "      <td>0</td>\n",
       "      <td>0</td>\n",
       "      <td>20.0</td>\n",
       "      <td>30.0</td>\n",
       "      <td>0</td>\n",
       "      <td>1</td>\n",
       "      <td>9</td>\n",
       "      <td>...</td>\n",
       "      <td>0</td>\n",
       "      <td>1</td>\n",
       "      <td>0</td>\n",
       "      <td>0</td>\n",
       "      <td>0</td>\n",
       "      <td>0</td>\n",
       "      <td>0</td>\n",
       "      <td>0</td>\n",
       "      <td>0</td>\n",
       "      <td>1</td>\n",
       "    </tr>\n",
       "    <tr>\n",
       "      <th>3</th>\n",
       "      <td>0</td>\n",
       "      <td>24.21</td>\n",
       "      <td>0</td>\n",
       "      <td>0</td>\n",
       "      <td>0</td>\n",
       "      <td>0.0</td>\n",
       "      <td>0.0</td>\n",
       "      <td>0</td>\n",
       "      <td>0</td>\n",
       "      <td>11</td>\n",
       "      <td>...</td>\n",
       "      <td>1</td>\n",
       "      <td>0</td>\n",
       "      <td>1</td>\n",
       "      <td>0</td>\n",
       "      <td>0</td>\n",
       "      <td>0</td>\n",
       "      <td>0</td>\n",
       "      <td>0</td>\n",
       "      <td>0</td>\n",
       "      <td>1</td>\n",
       "    </tr>\n",
       "    <tr>\n",
       "      <th>4</th>\n",
       "      <td>0</td>\n",
       "      <td>23.71</td>\n",
       "      <td>0</td>\n",
       "      <td>0</td>\n",
       "      <td>0</td>\n",
       "      <td>28.0</td>\n",
       "      <td>0.0</td>\n",
       "      <td>1</td>\n",
       "      <td>0</td>\n",
       "      <td>4</td>\n",
       "      <td>...</td>\n",
       "      <td>0</td>\n",
       "      <td>0</td>\n",
       "      <td>0</td>\n",
       "      <td>0</td>\n",
       "      <td>1</td>\n",
       "      <td>0</td>\n",
       "      <td>0</td>\n",
       "      <td>0</td>\n",
       "      <td>0</td>\n",
       "      <td>1</td>\n",
       "    </tr>\n",
       "  </tbody>\n",
       "</table>\n",
       "<p>5 rows × 25 columns</p>\n",
       "</div>"
      ],
      "text/plain": [
       "   HeartDisease    BMI  Smoking  AlcoholDrinking  Stroke  PhysicalHealth  \\\n",
       "0             0  16.60        1                0       0             3.0   \n",
       "1             0  20.34        0                0       1             0.0   \n",
       "2             0  26.58        1                0       0            20.0   \n",
       "3             0  24.21        0                0       0             0.0   \n",
       "4             0  23.71        0                0       0            28.0   \n",
       "\n",
       "   MentalHealth  DiffWalking  Sex  AgeCategory  ...  SkinCancer  gen_hth_Fair  \\\n",
       "0          30.0            0    0            7  ...           1             0   \n",
       "1           0.0            0    0           12  ...           0             0   \n",
       "2          30.0            0    1            9  ...           0             1   \n",
       "3           0.0            0    0           11  ...           1             0   \n",
       "4           0.0            1    0            4  ...           0             0   \n",
       "\n",
       "   gen_hth_Good  gen_hth_Poor  gen_hth_Very good  \\\n",
       "0             0             0                  1   \n",
       "1             0             0                  1   \n",
       "2             0             0                  0   \n",
       "3             1             0                  0   \n",
       "4             0             0                  1   \n",
       "\n",
       "   American Indian/Alaskan Native  Asian  Black  Hispanic  White  \n",
       "0                               0      0      0         0      1  \n",
       "1                               0      0      0         0      1  \n",
       "2                               0      0      0         0      1  \n",
       "3                               0      0      0         0      1  \n",
       "4                               0      0      0         0      1  \n",
       "\n",
       "[5 rows x 25 columns]"
      ]
     },
     "execution_count": 19,
     "metadata": {},
     "output_type": "execute_result"
    }
   ],
   "source": [
    "data.head()"
   ]
  },
  {
   "cell_type": "code",
   "execution_count": 20,
   "metadata": {},
   "outputs": [
    {
     "data": {
      "text/html": [
       "<div>\n",
       "<style scoped>\n",
       "    .dataframe tbody tr th:only-of-type {\n",
       "        vertical-align: middle;\n",
       "    }\n",
       "\n",
       "    .dataframe tbody tr th {\n",
       "        vertical-align: top;\n",
       "    }\n",
       "\n",
       "    .dataframe thead th {\n",
       "        text-align: right;\n",
       "    }\n",
       "</style>\n",
       "<table border=\"1\" class=\"dataframe\">\n",
       "  <thead>\n",
       "    <tr style=\"text-align: right;\">\n",
       "      <th></th>\n",
       "      <th>BMI</th>\n",
       "      <th>Smoking</th>\n",
       "      <th>AlcoholDrinking</th>\n",
       "      <th>Stroke</th>\n",
       "      <th>PhysicalHealth</th>\n",
       "      <th>MentalHealth</th>\n",
       "      <th>DiffWalking</th>\n",
       "      <th>Sex</th>\n",
       "      <th>AgeCategory</th>\n",
       "      <th>Diabetic</th>\n",
       "      <th>...</th>\n",
       "      <th>SkinCancer</th>\n",
       "      <th>gen_hth_Fair</th>\n",
       "      <th>gen_hth_Good</th>\n",
       "      <th>gen_hth_Poor</th>\n",
       "      <th>gen_hth_Very good</th>\n",
       "      <th>American Indian/Alaskan Native</th>\n",
       "      <th>Asian</th>\n",
       "      <th>Black</th>\n",
       "      <th>Hispanic</th>\n",
       "      <th>White</th>\n",
       "    </tr>\n",
       "    <tr>\n",
       "      <th>HeartDisease</th>\n",
       "      <th></th>\n",
       "      <th></th>\n",
       "      <th></th>\n",
       "      <th></th>\n",
       "      <th></th>\n",
       "      <th></th>\n",
       "      <th></th>\n",
       "      <th></th>\n",
       "      <th></th>\n",
       "      <th></th>\n",
       "      <th></th>\n",
       "      <th></th>\n",
       "      <th></th>\n",
       "      <th></th>\n",
       "      <th></th>\n",
       "      <th></th>\n",
       "      <th></th>\n",
       "      <th></th>\n",
       "      <th></th>\n",
       "      <th></th>\n",
       "      <th></th>\n",
       "    </tr>\n",
       "  </thead>\n",
       "  <tbody>\n",
       "    <tr>\n",
       "      <th>0</th>\n",
       "      <td>28.345630</td>\n",
       "      <td>0.405996</td>\n",
       "      <td>0.074475</td>\n",
       "      <td>0.027964</td>\n",
       "      <td>3.148366</td>\n",
       "      <td>4.067902</td>\n",
       "      <td>0.125087</td>\n",
       "      <td>0.459083</td>\n",
       "      <td>6.239117</td>\n",
       "      <td>0.279145</td>\n",
       "      <td>...</td>\n",
       "      <td>0.088626</td>\n",
       "      <td>0.100475</td>\n",
       "      <td>0.297804</td>\n",
       "      <td>0.027094</td>\n",
       "      <td>0.362419</td>\n",
       "      <td>0.016943</td>\n",
       "      <td>0.028154</td>\n",
       "      <td>0.076810</td>\n",
       "      <td>0.093509</td>\n",
       "      <td>0.748131</td>\n",
       "    </tr>\n",
       "    <tr>\n",
       "      <th>1</th>\n",
       "      <td>29.411893</td>\n",
       "      <td>0.586075</td>\n",
       "      <td>0.041855</td>\n",
       "      <td>0.160999</td>\n",
       "      <td>7.840321</td>\n",
       "      <td>4.660834</td>\n",
       "      <td>0.367705</td>\n",
       "      <td>0.588680</td>\n",
       "      <td>9.230623</td>\n",
       "      <td>0.697297</td>\n",
       "      <td>...</td>\n",
       "      <td>0.182238</td>\n",
       "      <td>0.259822</td>\n",
       "      <td>0.348667</td>\n",
       "      <td>0.141227</td>\n",
       "      <td>0.195444</td>\n",
       "      <td>0.019882</td>\n",
       "      <td>0.009758</td>\n",
       "      <td>0.063424</td>\n",
       "      <td>0.052933</td>\n",
       "      <td>0.821503</td>\n",
       "    </tr>\n",
       "  </tbody>\n",
       "</table>\n",
       "<p>2 rows × 24 columns</p>\n",
       "</div>"
      ],
      "text/plain": [
       "                    BMI   Smoking  AlcoholDrinking    Stroke  PhysicalHealth  \\\n",
       "HeartDisease                                                                   \n",
       "0             28.345630  0.405996         0.074475  0.027964        3.148366   \n",
       "1             29.411893  0.586075         0.041855  0.160999        7.840321   \n",
       "\n",
       "              MentalHealth  DiffWalking       Sex  AgeCategory  Diabetic  ...  \\\n",
       "HeartDisease                                                              ...   \n",
       "0                 4.067902     0.125087  0.459083     6.239117  0.279145  ...   \n",
       "1                 4.660834     0.367705  0.588680     9.230623  0.697297  ...   \n",
       "\n",
       "              SkinCancer  gen_hth_Fair  gen_hth_Good  gen_hth_Poor  \\\n",
       "HeartDisease                                                         \n",
       "0               0.088626      0.100475      0.297804      0.027094   \n",
       "1               0.182238      0.259822      0.348667      0.141227   \n",
       "\n",
       "              gen_hth_Very good  American Indian/Alaskan Native     Asian  \\\n",
       "HeartDisease                                                                \n",
       "0                      0.362419                        0.016943  0.028154   \n",
       "1                      0.195444                        0.019882  0.009758   \n",
       "\n",
       "                 Black  Hispanic     White  \n",
       "HeartDisease                                \n",
       "0             0.076810  0.093509  0.748131  \n",
       "1             0.063424  0.052933  0.821503  \n",
       "\n",
       "[2 rows x 24 columns]"
      ]
     },
     "execution_count": 20,
     "metadata": {},
     "output_type": "execute_result"
    }
   ],
   "source": [
    "data.groupby('HeartDisease').mean()"
   ]
  },
  {
   "cell_type": "code",
   "execution_count": 21,
   "metadata": {},
   "outputs": [
    {
     "data": {
      "image/png": "[encoded data removed]",
      "text/plain": [
       "<Figure size 640x480 with 1 Axes>"
      ]
     },
     "metadata": {},
     "output_type": "display_data"
    }
   ],
   "source": [
    "sns.countplot(x='HeartDisease',data=data)\n",
    "plt.show()"
   ]
  },
  {
   "cell_type": "code",
   "execution_count": 22,
   "metadata": {},
   "outputs": [
    {
     "data": {
      "text/plain": [
       "HeartDisease\n",
       "0    0.909647\n",
       "1    0.090353\n",
       "Name: proportion, dtype: float64"
      ]
     },
     "execution_count": 22,
     "metadata": {},
     "output_type": "execute_result"
    }
   ],
   "source": [
    "data['HeartDisease'].value_counts(normalize=True)"
   ]
  },
  {
   "cell_type": "markdown",
   "metadata": {},
   "source": [
    "The dataset is imbalanced - with 9% of the target variable being 1 (Having Heart Disease) and 91% being 0 (Not Having Heart Disease).\n",
    "\n",
    "In trying to predict 1 = Having Heart Disease with the imbalanced dataset, different modelling techniques will be used."
   ]
  },
  {
   "cell_type": "markdown",
   "metadata": {},
   "source": [
    "# Modelling"
   ]
  },
  {
   "attachments": {},
   "cell_type": "markdown",
   "metadata": {},
   "source": [
    "For analysis, as the target variable is binary, classification models will be used to train the data in predicting heart disease.\n",
    "\n",
    "This is contrasted to data with a continuous target variable, where linear regression would be more relevant.\n",
    "\n",
    "Due to the imbalanced dataset, Ensemble Methods are used to to improve the performance and accuracy of machine learning algorithms.\n",
    "\n",
    "The types of ensemble methods are bagging and boosting algorithms.\n",
    "\n",
    "BAGGing - given a sample of data, multiple bootstrapped subsamples are pulled. A Decision Tree is formed on each of the bootstrapped subsamples. After each subsample Decision Tree has been formed, an algorithm is used to aggregate over the Decision Trees to form the most efficient predictor.\n",
    "\n",
    "Boosting is a sequential process, where each subsequent model attempts to correct the errors of the previous model. The succeeding models are dependent on the previous model. In other words, we fit consecutive trees (random sample) and at every step, the goal is to solve for net error from the prior tree.\n",
    "\n",
    "The models used in this project will be\n",
    "1. Logisitic regression\n",
    "2. Random Forest (bagging algorithm)\n",
    "3. AdaBoost (boosting algorithm)\n",
    "4. XGBoost (gradient-boosted decision tree algorithm)\n",
    "5. EasyEnsemble (bagging & boosting algorithm)\n",
    "\n",
    "To evaluate the models the following metrics will be used - \n",
    "\n",
    "Precision - percentage of predictions made by the model that are correct. (True Positives (TP)/ (True Positives (TP) + False Positives (FP) ). Maximising precision reduces the number of false positives in the target variable.\n",
    "\n",
    "Recall - percentage of relevant data points that were correctly identified by the model. (True Positives (TP) / (True Positives (TP) + False Negatives (FN) ). Maximising recall minimizes the number of misclassification of the target variable.\n",
    "\n",
    "F1 score - combines both precision and recall. It is defined as the harmonic mean of precision and recall.\n",
    "\n",
    "AUC score (AUC ROC) - how well the classifier distinguishes positive and negative classes. 1 is a perfect model, 0.5 is a random model. \n",
    "\n",
    "In high risk prediction situations like the medical field in our case, “recall” is most important (the number of true positives divided by the number of true positives plus the number of false negatives)\n"
   ]
  },
  {
   "cell_type": "code",
   "execution_count": null,
   "metadata": {},
   "outputs": [],
   "source": []
  },
  {
   "cell_type": "code",
   "execution_count": 23,
   "metadata": {},
   "outputs": [],
   "source": [
    "data2 = data.copy()"
   ]
  },
  {
   "cell_type": "code",
   "execution_count": 24,
   "metadata": {},
   "outputs": [],
   "source": [
    "X=data2.drop('HeartDisease',axis=1).values\n",
    "Y=data2['HeartDisease'].values"
   ]
  },
  {
   "cell_type": "code",
   "execution_count": 25,
   "metadata": {},
   "outputs": [],
   "source": [
    "x_train,x_test,y_train,y_test = train_test_split(X,Y,test_size=0.30,random_state=42)"
   ]
  },
  {
   "cell_type": "code",
   "execution_count": 26,
   "metadata": {},
   "outputs": [],
   "source": [
    "# Scale the dataset on both train and test sets.\n",
    "# Note that we fit MinMaxScaler on X_train only, not on the entire dataset.\n",
    "# This prevents data leakage from test set to train set.\n",
    "scaler = MinMaxScaler()\n",
    "scaler.fit(x_train)\n",
    "x_train = scaler.transform(x_train)\n",
    "x_test = scaler.transform(x_test)\n",
    "\n",
    "# Perform PCA Decomposition on both train and test sets\n",
    "# Note that we fit PCA on X_train only, not on the entire dataset.\n",
    "# This prevents data leakage from test set to train set.\n",
    "pca = PCA(n_components=2)\n",
    "pca.fit(x_train)\n",
    "x_train_pca = pca.transform(x_train)\n",
    "x_test_pca = pca.transform(x_test)\n"
   ]
  },
  {
   "cell_type": "markdown",
   "metadata": {},
   "source": [
    "1. Logistic Regression"
   ]
  },
  {
   "cell_type": "code",
   "execution_count": 27,
   "metadata": {},
   "outputs": [
    {
     "name": "stdout",
     "output_type": "stream",
     "text": [
      "              precision    recall  f1-score   support\n",
      "\n",
      "           0       0.92      0.99      0.95     82383\n",
      "           1       0.53      0.11      0.18      8133\n",
      "\n",
      "    accuracy                           0.91     90516\n",
      "   macro avg       0.73      0.55      0.57     90516\n",
      "weighted avg       0.88      0.91      0.88     90516\n",
      "\n"
     ]
    }
   ],
   "source": [
    "model = LogisticRegression()\n",
    "model.fit(x_train, y_train)\n",
    "model.score(x_test, y_test)\n",
    "print(classification_report(y_test,model.predict(x_test)))"
   ]
  },
  {
   "cell_type": "markdown",
   "metadata": {},
   "source": [
    "2. Bagging algorithm - Random Forest"
   ]
  },
  {
   "cell_type": "code",
   "execution_count": 28,
   "metadata": {},
   "outputs": [
    {
     "name": "stdout",
     "output_type": "stream",
     "text": [
      "              precision    recall  f1-score   support\n",
      "\n",
      "           0       0.92      0.98      0.95     82383\n",
      "           1       0.33      0.12      0.17      8133\n",
      "\n",
      "    accuracy                           0.90     90516\n",
      "   macro avg       0.62      0.55      0.56     90516\n",
      "weighted avg       0.86      0.90      0.88     90516\n",
      "\n"
     ]
    }
   ],
   "source": [
    "rf = RandomForestClassifier(random_state=42)\n",
    "rf.fit(x_train , y_train);\n",
    "print(classification_report(y_test,rf.predict(x_test)))"
   ]
  },
  {
   "cell_type": "markdown",
   "metadata": {},
   "source": [
    "3. Boosting algorithm - AdaBoost"
   ]
  },
  {
   "cell_type": "code",
   "execution_count": 69,
   "metadata": {},
   "outputs": [
    {
     "name": "stdout",
     "output_type": "stream",
     "text": [
      "              precision    recall  f1-score   support\n",
      "\n",
      "           0       0.92      0.99      0.95     82383\n",
      "           1       0.52      0.12      0.19      8133\n",
      "\n",
      "    accuracy                           0.91     90516\n",
      "   macro avg       0.72      0.55      0.57     90516\n",
      "weighted avg       0.88      0.91      0.88     90516\n",
      "\n"
     ]
    }
   ],
   "source": [
    "ada=AdaBoostClassifier(random_state=42)\n",
    "ada.fit(x_train, y_train)\n",
    "print(classification_report(y_test,ada.predict(x_test)))"
   ]
  },
  {
   "cell_type": "markdown",
   "metadata": {},
   "source": [
    "4. XGBoost (gradient-boosted decision tree algorithm)"
   ]
  },
  {
   "cell_type": "code",
   "execution_count": 70,
   "metadata": {},
   "outputs": [
    {
     "name": "stdout",
     "output_type": "stream",
     "text": [
      "              precision    recall  f1-score   support\n",
      "\n",
      "           0       0.92      0.99      0.95     82383\n",
      "           1       0.49      0.10      0.17      8133\n",
      "\n",
      "    accuracy                           0.91     90516\n",
      "   macro avg       0.71      0.55      0.56     90516\n",
      "weighted avg       0.88      0.91      0.88     90516\n",
      "\n"
     ]
    }
   ],
   "source": [
    "xgb = XGBClassifier(random_state=42)\n",
    "xgb.fit(x_train , y_train);\n",
    "print(classification_report(y_test,xgb.predict(x_test)))"
   ]
  },
  {
   "cell_type": "markdown",
   "metadata": {},
   "source": [
    "5. EasyEnsemble (bagging & boosting algorithm)"
   ]
  },
  {
   "cell_type": "code",
   "execution_count": 72,
   "metadata": {},
   "outputs": [
    {
     "name": "stdout",
     "output_type": "stream",
     "text": [
      "              precision    recall  f1-score   support\n",
      "\n",
      "           0       0.97      0.74      0.84     82383\n",
      "           1       0.22      0.76      0.34      8133\n",
      "\n",
      "    accuracy                           0.74     90516\n",
      "   macro avg       0.59      0.75      0.59     90516\n",
      "weighted avg       0.90      0.74      0.79     90516\n",
      "\n"
     ]
    }
   ],
   "source": [
    "eec = EasyEnsembleClassifier(random_state=42)\n",
    "eec.fit(x_train , y_train);\n",
    "print(classification_report(y_test,eec.predict(x_test)))"
   ]
  },
  {
   "cell_type": "markdown",
   "metadata": {},
   "source": [
    "# ROC curve"
   ]
  },
  {
   "cell_type": "code",
   "execution_count": 73,
   "metadata": {},
   "outputs": [
    {
     "data": {
      "image/png": "[encoded data removed]",
      "text/plain": [
       "<Figure size 640x480 with 1 Axes>"
      ]
     },
     "metadata": {},
     "output_type": "display_data"
    }
   ],
   "source": [
    "#set up plotting area\n",
    "plt.figure(0).clf()\n",
    "\n",
    "#fit logistic regression model and plot ROC curve\n",
    "model = LogisticRegression()\n",
    "model.fit(x_train, y_train)\n",
    "y_pred = model.predict_proba(x_test)[:, 1]\n",
    "fpr, tpr, _ = metrics.roc_curve(y_test, y_pred)\n",
    "auc = round(metrics.roc_auc_score(y_test, y_pred), 4)\n",
    "plt.plot(fpr,tpr,label=\"Logistic Regression, AUC=\"+str(auc))\n",
    "\n",
    "#fit random forest model and plot ROC curve\n",
    "model = RandomForestClassifier()\n",
    "model.fit(x_train , y_train);\n",
    "y_pred = model.predict_proba(x_test)[:, 1]\n",
    "fpr, tpr, _ = metrics.roc_curve(y_test, y_pred)\n",
    "auc = round(metrics.roc_auc_score(y_test, y_pred), 4)\n",
    "plt.plot(fpr,tpr,label=\"Random Forest, AUC=\"+str(auc))\n",
    "\n",
    "#fit AdaBoost model and plot ROC curve\n",
    "model = AdaBoostClassifier()\n",
    "model.fit(x_train, y_train)\n",
    "y_pred = model.predict_proba(x_test)[:, 1]\n",
    "fpr, tpr, _ = metrics.roc_curve(y_test, y_pred)\n",
    "auc = round(metrics.roc_auc_score(y_test, y_pred), 4)\n",
    "plt.plot(fpr,tpr,label=\"AdaBoost, AUC=\"+str(auc))\n",
    "\n",
    "#fit XGBoost model and plot ROC curve\n",
    "model = XGBClassifier()\n",
    "model.fit(x_train, y_train)\n",
    "y_pred = model.predict_proba(x_test)[:, 1]\n",
    "fpr, tpr, _ = metrics.roc_curve(y_test, y_pred)\n",
    "auc = round(metrics.roc_auc_score(y_test, y_pred), 4)\n",
    "plt.plot(fpr,tpr,label=\"XGBoost, AUC=\"+str(auc))\n",
    "\n",
    "#fit EasyEnsemble model and plot ROC curve\n",
    "model = EasyEnsembleClassifier()\n",
    "model.fit(x_train, y_train)\n",
    "y_pred = model.predict_proba(x_test)[:, 1]\n",
    "fpr, tpr, _ = metrics.roc_curve(y_test, y_pred)\n",
    "auc = round(metrics.roc_auc_score(y_test, y_pred), 4)\n",
    "plt.plot(fpr,tpr,label=\"Easy Ensemble, AUC=\"+str(auc))\n",
    "\n",
    "#add legend\n",
    "plt.legend()\n",
    "plt.show()"
   ]
  },
  {
   "cell_type": "markdown",
   "metadata": {},
   "source": [
    "# Summary of modelling on original data"
   ]
  },
  {
   "cell_type": "code",
   "execution_count": 57,
   "metadata": {},
   "outputs": [],
   "source": [
    "def evaluate_models(X, y):\n",
    "    results = []\n",
    "    \n",
    "    x_train,x_test,y_train,y_test = train_test_split(X,Y,test_size=0.30,random_state=42)\n",
    "\n",
    "    models = [\n",
    "        ('Logistic Regression', LogisticRegression()),\n",
    "        ('Randon Forest', RandomForestClassifier()),\n",
    "        ('AdaBoost', AdaBoostClassifier()),\n",
    "        ('XGBoost', XGBClassifier()),\n",
    "        ('EasyEnsemble', EasyEnsembleClassifier())\n",
    "    ]\n",
    "\n",
    "    for name, model in models:\n",
    "        model.fit(x_train, y_train)\n",
    "        y_pred = model.predict(x_test)\n",
    "        accuracy = accuracy_score(y_test, y_pred)\n",
    "        precision = precision_score(y_test, y_pred)\n",
    "        recall = recall_score(y_test, y_pred)\n",
    "        f1 = f1_score(y_test, y_pred)\n",
    "        results.append((name, accuracy, precision, recall, f1))\n",
    "\n",
    "    df = pd.DataFrame(results, columns=['Model', 'Accuracy', 'Precision', 'Recall', 'F1'])\n",
    "    df_styled = df.style.highlight_max(subset=['Accuracy', 'Precision', 'Recall', 'F1'], color='lightblue')\n",
    "    display(df_styled)"
   ]
  },
  {
   "cell_type": "code",
   "execution_count": 58,
   "metadata": {},
   "outputs": [
    {
     "data": {
      "text/html": [
       "<style type=\"text/css\">\n",
       "#T_7cd19_row2_col1, #T_7cd19_row2_col2, #T_7cd19_row4_col3, #T_7cd19_row4_col4 {\n",
       "  background-color: lightblue;\n",
       "}\n",
       "</style>\n",
       "<table id=\"T_7cd19\">\n",
       "  <thead>\n",
       "    <tr>\n",
       "      <th class=\"blank level0\" >&nbsp;</th>\n",
       "      <th id=\"T_7cd19_level0_col0\" class=\"col_heading level0 col0\" >Model</th>\n",
       "      <th id=\"T_7cd19_level0_col1\" class=\"col_heading level0 col1\" >Accuracy</th>\n",
       "      <th id=\"T_7cd19_level0_col2\" class=\"col_heading level0 col2\" >Precision</th>\n",
       "      <th id=\"T_7cd19_level0_col3\" class=\"col_heading level0 col3\" >Recall</th>\n",
       "      <th id=\"T_7cd19_level0_col4\" class=\"col_heading level0 col4\" >F1</th>\n",
       "    </tr>\n",
       "  </thead>\n",
       "  <tbody>\n",
       "    <tr>\n",
       "      <th id=\"T_7cd19_level0_row0\" class=\"row_heading level0 row0\" >0</th>\n",
       "      <td id=\"T_7cd19_row0_col0\" class=\"data row0 col0\" >Logistic Regression</td>\n",
       "      <td id=\"T_7cd19_row0_col1\" class=\"data row0 col1\" >0.910844</td>\n",
       "      <td id=\"T_7cd19_row0_col2\" class=\"data row0 col2\" >0.520336</td>\n",
       "      <td id=\"T_7cd19_row0_col3\" class=\"data row0 col3\" >0.099102</td>\n",
       "      <td id=\"T_7cd19_row0_col4\" class=\"data row0 col4\" >0.166495</td>\n",
       "    </tr>\n",
       "    <tr>\n",
       "      <th id=\"T_7cd19_level0_row1\" class=\"row_heading level0 row1\" >1</th>\n",
       "      <td id=\"T_7cd19_row1_col0\" class=\"data row1 col0\" >Randon Forest</td>\n",
       "      <td id=\"T_7cd19_row1_col1\" class=\"data row1 col1\" >0.899399</td>\n",
       "      <td id=\"T_7cd19_row1_col2\" class=\"data row1 col2\" >0.334580</td>\n",
       "      <td id=\"T_7cd19_row1_col3\" class=\"data row1 col3\" >0.120989</td>\n",
       "      <td id=\"T_7cd19_row1_col4\" class=\"data row1 col4\" >0.177714</td>\n",
       "    </tr>\n",
       "    <tr>\n",
       "      <th id=\"T_7cd19_level0_row2\" class=\"row_heading level0 row2\" >2</th>\n",
       "      <td id=\"T_7cd19_row2_col0\" class=\"data row2 col0\" >AdaBoost</td>\n",
       "      <td id=\"T_7cd19_row2_col1\" class=\"data row2 col1\" >0.911021</td>\n",
       "      <td id=\"T_7cd19_row2_col2\" class=\"data row2 col2\" >0.521526</td>\n",
       "      <td id=\"T_7cd19_row2_col3\" class=\"data row2 col3\" >0.117669</td>\n",
       "      <td id=\"T_7cd19_row2_col4\" class=\"data row2 col4\" >0.192014</td>\n",
       "    </tr>\n",
       "    <tr>\n",
       "      <th id=\"T_7cd19_level0_row3\" class=\"row_heading level0 row3\" >3</th>\n",
       "      <td id=\"T_7cd19_row3_col0\" class=\"data row3 col0\" >XGBoost</td>\n",
       "      <td id=\"T_7cd19_row3_col1\" class=\"data row3 col1\" >0.909883</td>\n",
       "      <td id=\"T_7cd19_row3_col2\" class=\"data row3 col2\" >0.492891</td>\n",
       "      <td id=\"T_7cd19_row3_col3\" class=\"data row3 col3\" >0.102299</td>\n",
       "      <td id=\"T_7cd19_row3_col4\" class=\"data row3 col4\" >0.169433</td>\n",
       "    </tr>\n",
       "    <tr>\n",
       "      <th id=\"T_7cd19_level0_row4\" class=\"row_heading level0 row4\" >4</th>\n",
       "      <td id=\"T_7cd19_row4_col0\" class=\"data row4 col0\" >EasyEnsemble</td>\n",
       "      <td id=\"T_7cd19_row4_col1\" class=\"data row4 col1\" >0.744377</td>\n",
       "      <td id=\"T_7cd19_row4_col2\" class=\"data row4 col2\" >0.224507</td>\n",
       "      <td id=\"T_7cd19_row4_col3\" class=\"data row4 col3\" >0.751752</td>\n",
       "      <td id=\"T_7cd19_row4_col4\" class=\"data row4 col4\" >0.345756</td>\n",
       "    </tr>\n",
       "  </tbody>\n",
       "</table>\n"
      ],
      "text/plain": [
       "<pandas.io.formats.style.Styler at 0x1b313fc3990>"
      ]
     },
     "metadata": {},
     "output_type": "display_data"
    }
   ],
   "source": [
    "evaluate_models(X,Y)"
   ]
  },
  {
   "cell_type": "markdown",
   "metadata": {},
   "source": [
    "Due to the dataset being imbalanced these results on the target variable (1 HeartDisease) are very low.\n",
    "\n",
    "Therefore balance the data with oversampling - ie. increasing the minority class to be balanced with the majority class - to train the models."
   ]
  },
  {
   "cell_type": "markdown",
   "metadata": {},
   "source": [
    "# Oversampling to balance the data"
   ]
  },
  {
   "cell_type": "markdown",
   "metadata": {},
   "source": [
    "Oversampling using SMOTE (Synthetic Minority Oversampling Technique) to balance the data set"
   ]
  },
  {
   "cell_type": "code",
   "execution_count": 30,
   "metadata": {},
   "outputs": [],
   "source": [
    "x=data.drop('HeartDisease',axis=1).values\n",
    "y=data['HeartDisease'].values"
   ]
  },
  {
   "cell_type": "code",
   "execution_count": 31,
   "metadata": {},
   "outputs": [
    {
     "data": {
      "text/plain": [
       "0.0903528803481408"
      ]
     },
     "execution_count": 31,
     "metadata": {},
     "output_type": "execute_result"
    }
   ],
   "source": [
    "y.mean()"
   ]
  },
  {
   "cell_type": "code",
   "execution_count": 32,
   "metadata": {},
   "outputs": [
    {
     "name": "stderr",
     "output_type": "stream",
     "text": [
      "  File \"C:\\Users\\bridg\\anaconda3\\Lib\\site-packages\\joblib\\externals\\loky\\backend\\context.py\", line 217, in _count_physical_cores\n",
      "    raise ValueError(\n"
     ]
    }
   ],
   "source": [
    "sm = SMOTE(random_state=42)\n",
    "X_sm, Y_sm = sm.fit_resample(x, y)"
   ]
  },
  {
   "cell_type": "code",
   "execution_count": 33,
   "metadata": {},
   "outputs": [],
   "source": [
    "x_train,x_test,y_train,y_test = train_test_split(X_sm,Y_sm,test_size=0.30,random_state=42)"
   ]
  },
  {
   "cell_type": "code",
   "execution_count": 34,
   "metadata": {},
   "outputs": [
    {
     "name": "stdout",
     "output_type": "stream",
     "text": [
      "[(0, 192313), (1, 191925)]\n"
     ]
    }
   ],
   "source": [
    "print(sorted(Counter(y_train).items()))"
   ]
  },
  {
   "cell_type": "code",
   "execution_count": 35,
   "metadata": {},
   "outputs": [
    {
     "data": {
      "text/plain": [
       "0.5"
      ]
     },
     "execution_count": 35,
     "metadata": {},
     "output_type": "execute_result"
    }
   ],
   "source": [
    "Y_sm.mean()"
   ]
  },
  {
   "cell_type": "code",
   "execution_count": 36,
   "metadata": {},
   "outputs": [
    {
     "data": {
      "image/png": "[encoded data removed]",
      "text/plain": [
       "<Figure size 640x480 with 1 Axes>"
      ]
     },
     "metadata": {},
     "output_type": "display_data"
    }
   ],
   "source": [
    "sns.countplot(x=Y_sm,data=data).set_title('Heart Disease')\n",
    "plt.show()"
   ]
  },
  {
   "cell_type": "markdown",
   "metadata": {},
   "source": [
    "The dataset is now balanced through use of SMOTE to oversample - compare models balanced dataset"
   ]
  },
  {
   "cell_type": "code",
   "execution_count": 37,
   "metadata": {},
   "outputs": [],
   "source": [
    "# Scale the dataset on both train and test sets.\n",
    "# Note that we fit MinMaxScaler on X_train only, not on the entire dataset.\n",
    "# This prevents data leakage from test set to train set.\n",
    "scaler = MinMaxScaler()\n",
    "scaler.fit(x_train)\n",
    "x_train = scaler.transform(x_train)\n",
    "x_test = scaler.transform(x_test)\n",
    "\n",
    "# Perform PCA Decomposition on both train and test sets\n",
    "# Note that we fit PCA on X_train only, not on the entire dataset.\n",
    "# This prevents data leakage from test set to train set.\n",
    "pca = PCA(n_components=2)\n",
    "pca.fit(x_train)\n",
    "x_train_pca = pca.transform(x_train)\n",
    "x_test_pca = pca.transform(x_test)\n"
   ]
  },
  {
   "cell_type": "markdown",
   "metadata": {},
   "source": [
    "# Modelling on balanced data"
   ]
  },
  {
   "cell_type": "markdown",
   "metadata": {},
   "source": [
    "1. Logisitic Regression"
   ]
  },
  {
   "cell_type": "code",
   "execution_count": 97,
   "metadata": {},
   "outputs": [
    {
     "name": "stdout",
     "output_type": "stream",
     "text": [
      "              precision    recall  f1-score   support\n",
      "\n",
      "           0       0.78      0.74      0.76     82143\n",
      "           1       0.76      0.79      0.77     82531\n",
      "\n",
      "    accuracy                           0.77    164674\n",
      "   macro avg       0.77      0.77      0.77    164674\n",
      "weighted avg       0.77      0.77      0.77    164674\n",
      "\n"
     ]
    }
   ],
   "source": [
    "model = LogisticRegression()\n",
    "model.fit(x_train, y_train)\n",
    "model.score(x_test, y_test)\n",
    "print(classification_report(y_test,model.predict(x_test)))"
   ]
  },
  {
   "cell_type": "markdown",
   "metadata": {},
   "source": [
    "2. Bagging algorithm - Random Forest"
   ]
  },
  {
   "cell_type": "code",
   "execution_count": 98,
   "metadata": {},
   "outputs": [
    {
     "name": "stdout",
     "output_type": "stream",
     "text": [
      "              precision    recall  f1-score   support\n",
      "\n",
      "           0       0.92      0.96      0.94     82143\n",
      "           1       0.96      0.91      0.94     82531\n",
      "\n",
      "    accuracy                           0.94    164674\n",
      "   macro avg       0.94      0.94      0.94    164674\n",
      "weighted avg       0.94      0.94      0.94    164674\n",
      "\n"
     ]
    }
   ],
   "source": [
    "rf = RandomForestClassifier(random_state=42)\n",
    "rf.fit(x_train , y_train);\n",
    "print(classification_report(y_test,rf.predict(x_test)))"
   ]
  },
  {
   "cell_type": "markdown",
   "metadata": {},
   "source": [
    "3. Boosting algorithm - AdaBoost"
   ]
  },
  {
   "cell_type": "code",
   "execution_count": 99,
   "metadata": {},
   "outputs": [
    {
     "name": "stdout",
     "output_type": "stream",
     "text": [
      "              precision    recall  f1-score   support\n",
      "\n",
      "           0       0.86      0.89      0.88     82143\n",
      "           1       0.89      0.86      0.87     82531\n",
      "\n",
      "    accuracy                           0.87    164674\n",
      "   macro avg       0.87      0.87      0.87    164674\n",
      "weighted avg       0.87      0.87      0.87    164674\n",
      "\n"
     ]
    }
   ],
   "source": [
    "ada=AdaBoostClassifier(random_state=42)\n",
    "ada.fit(x_train, y_train)\n",
    "print(classification_report(y_test,ada.predict(x_test)))"
   ]
  },
  {
   "cell_type": "markdown",
   "metadata": {},
   "source": [
    "4. Boosting algorithm - XGBoost"
   ]
  },
  {
   "cell_type": "code",
   "execution_count": 100,
   "metadata": {},
   "outputs": [
    {
     "name": "stdout",
     "output_type": "stream",
     "text": [
      "              precision    recall  f1-score   support\n",
      "\n",
      "           0       0.90      0.97      0.93     82143\n",
      "           1       0.97      0.89      0.93     82531\n",
      "\n",
      "    accuracy                           0.93    164674\n",
      "   macro avg       0.93      0.93      0.93    164674\n",
      "weighted avg       0.93      0.93      0.93    164674\n",
      "\n"
     ]
    }
   ],
   "source": [
    "xgb = XGBClassifier(random_state=42)\n",
    "xgb.fit(x_train , y_train);\n",
    "print(classification_report(y_test,xgb.predict(x_test)))"
   ]
  },
  {
   "cell_type": "markdown",
   "metadata": {},
   "source": [
    "5. Bagging & Boosting algorithm - EasyEnsemble"
   ]
  },
  {
   "cell_type": "code",
   "execution_count": 101,
   "metadata": {},
   "outputs": [
    {
     "name": "stdout",
     "output_type": "stream",
     "text": [
      "              precision    recall  f1-score   support\n",
      "\n",
      "           0       0.87      0.85      0.86     82143\n",
      "           1       0.85      0.87      0.86     82531\n",
      "\n",
      "    accuracy                           0.86    164674\n",
      "   macro avg       0.86      0.86      0.86    164674\n",
      "weighted avg       0.86      0.86      0.86    164674\n",
      "\n"
     ]
    }
   ],
   "source": [
    "eec = EasyEnsembleClassifier(random_state=42)\n",
    "eec.fit(x_train , y_train);\n",
    "print(classification_report(y_test,eec.predict(x_test)))"
   ]
  },
  {
   "cell_type": "markdown",
   "metadata": {},
   "source": [
    "# Summary of balanced data models"
   ]
  },
  {
   "cell_type": "code",
   "execution_count": 38,
   "metadata": {},
   "outputs": [],
   "source": [
    "def evaluate_models(X, y):\n",
    "    results = []\n",
    "    \n",
    "    x_train,x_test,y_train,y_test = train_test_split(X_sm,Y_sm,test_size=0.30,random_state=42)\n",
    "\n",
    "    models = [\n",
    "        ('Logistic Regression', LogisticRegression()),\n",
    "        ('Random Forest', RandomForestClassifier()),\n",
    "        ('AdaBoost', AdaBoostClassifier()),\n",
    "        ('XGBoost', XGBClassifier()),\n",
    "        ('EasyEnsemble', EasyEnsembleClassifier())\n",
    "    ]\n",
    "\n",
    "    for name, model in models:\n",
    "        model.fit(x_train, y_train)\n",
    "        y_pred = model.predict(x_test)\n",
    "        accuracy = accuracy_score(y_test, y_pred)\n",
    "        precision = precision_score(y_test, y_pred)\n",
    "        recall = recall_score(y_test, y_pred)\n",
    "        f1 = f1_score(y_test, y_pred)\n",
    "        results.append((name, accuracy, precision, recall, f1))\n",
    "\n",
    "    df = pd.DataFrame(results, columns=['Model', 'Accuracy', 'Precision', 'Recall', 'F1'])\n",
    "    df_styled = df.style.highlight_max(subset=['Accuracy', 'Precision', 'Recall', 'F1'], color='lightblue')\n",
    "    display(df_styled)"
   ]
  },
  {
   "cell_type": "code",
   "execution_count": 39,
   "metadata": {},
   "outputs": [
    {
     "data": {
      "text/html": [
       "<style type=\"text/css\">\n",
       "#T_c8df1_row1_col1, #T_c8df1_row1_col3, #T_c8df1_row1_col4, #T_c8df1_row3_col2 {\n",
       "  background-color: lightblue;\n",
       "}\n",
       "</style>\n",
       "<table id=\"T_c8df1\">\n",
       "  <thead>\n",
       "    <tr>\n",
       "      <th class=\"blank level0\" >&nbsp;</th>\n",
       "      <th id=\"T_c8df1_level0_col0\" class=\"col_heading level0 col0\" >Model</th>\n",
       "      <th id=\"T_c8df1_level0_col1\" class=\"col_heading level0 col1\" >Accuracy</th>\n",
       "      <th id=\"T_c8df1_level0_col2\" class=\"col_heading level0 col2\" >Precision</th>\n",
       "      <th id=\"T_c8df1_level0_col3\" class=\"col_heading level0 col3\" >Recall</th>\n",
       "      <th id=\"T_c8df1_level0_col4\" class=\"col_heading level0 col4\" >F1</th>\n",
       "    </tr>\n",
       "  </thead>\n",
       "  <tbody>\n",
       "    <tr>\n",
       "      <th id=\"T_c8df1_level0_row0\" class=\"row_heading level0 row0\" >0</th>\n",
       "      <td id=\"T_c8df1_row0_col0\" class=\"data row0 col0\" >Logistic Regression</td>\n",
       "      <td id=\"T_c8df1_row0_col1\" class=\"data row0 col1\" >0.765616</td>\n",
       "      <td id=\"T_c8df1_row0_col2\" class=\"data row0 col2\" >0.756259</td>\n",
       "      <td id=\"T_c8df1_row0_col3\" class=\"data row0 col3\" >0.785499</td>\n",
       "      <td id=\"T_c8df1_row0_col4\" class=\"data row0 col4\" >0.770601</td>\n",
       "    </tr>\n",
       "    <tr>\n",
       "      <th id=\"T_c8df1_level0_row1\" class=\"row_heading level0 row1\" >1</th>\n",
       "      <td id=\"T_c8df1_row1_col0\" class=\"data row1 col0\" >Random Forest</td>\n",
       "      <td id=\"T_c8df1_row1_col1\" class=\"data row1 col1\" >0.937568</td>\n",
       "      <td id=\"T_c8df1_row1_col2\" class=\"data row1 col2\" >0.959804</td>\n",
       "      <td id=\"T_c8df1_row1_col3\" class=\"data row1 col3\" >0.913693</td>\n",
       "      <td id=\"T_c8df1_row1_col4\" class=\"data row1 col4\" >0.936181</td>\n",
       "    </tr>\n",
       "    <tr>\n",
       "      <th id=\"T_c8df1_level0_row2\" class=\"row_heading level0 row2\" >2</th>\n",
       "      <td id=\"T_c8df1_row2_col0\" class=\"data row2 col0\" >AdaBoost</td>\n",
       "      <td id=\"T_c8df1_row2_col1\" class=\"data row2 col1\" >0.874163</td>\n",
       "      <td id=\"T_c8df1_row2_col2\" class=\"data row2 col2\" >0.885386</td>\n",
       "      <td id=\"T_c8df1_row2_col3\" class=\"data row2 col3\" >0.860283</td>\n",
       "      <td id=\"T_c8df1_row2_col4\" class=\"data row2 col4\" >0.872654</td>\n",
       "    </tr>\n",
       "    <tr>\n",
       "      <th id=\"T_c8df1_level0_row3\" class=\"row_heading level0 row3\" >3</th>\n",
       "      <td id=\"T_c8df1_row3_col0\" class=\"data row3 col0\" >XGBoost</td>\n",
       "      <td id=\"T_c8df1_row3_col1\" class=\"data row3 col1\" >0.931580</td>\n",
       "      <td id=\"T_c8df1_row3_col2\" class=\"data row3 col2\" >0.968583</td>\n",
       "      <td id=\"T_c8df1_row3_col3\" class=\"data row3 col3\" >0.892428</td>\n",
       "      <td id=\"T_c8df1_row3_col4\" class=\"data row3 col4\" >0.928948</td>\n",
       "    </tr>\n",
       "    <tr>\n",
       "      <th id=\"T_c8df1_level0_row4\" class=\"row_heading level0 row4\" >4</th>\n",
       "      <td id=\"T_c8df1_row4_col0\" class=\"data row4 col0\" >EasyEnsemble</td>\n",
       "      <td id=\"T_c8df1_row4_col1\" class=\"data row4 col1\" >0.858599</td>\n",
       "      <td id=\"T_c8df1_row4_col2\" class=\"data row4 col2\" >0.850701</td>\n",
       "      <td id=\"T_c8df1_row4_col3\" class=\"data row4 col3\" >0.870667</td>\n",
       "      <td id=\"T_c8df1_row4_col4\" class=\"data row4 col4\" >0.860568</td>\n",
       "    </tr>\n",
       "  </tbody>\n",
       "</table>\n"
      ],
      "text/plain": [
       "<pandas.io.formats.style.Styler at 0x1b354760590>"
      ]
     },
     "metadata": {},
     "output_type": "display_data"
    }
   ],
   "source": [
    "evaluate_models(X_sm,Y_sm)"
   ]
  },
  {
   "cell_type": "markdown",
   "metadata": {},
   "source": [
    "The results have improved across all models.\n",
    "\n",
    "Random Forest is the best performing model, with a recall = 0.914 which means the model would correctly identify a patient as having a heart disease 91.4% of the time.\n",
    "\n",
    "Precision and F1 scores are also high."
   ]
  },
  {
   "cell_type": "markdown",
   "metadata": {},
   "source": [
    "# ROC curve"
   ]
  },
  {
   "cell_type": "code",
   "execution_count": 30,
   "metadata": {},
   "outputs": [
    {
     "data": {
      "image/png": "[encoded data removed]",
      "text/plain": [
       "<Figure size 640x480 with 1 Axes>"
      ]
     },
     "metadata": {},
     "output_type": "display_data"
    }
   ],
   "source": [
    "#set up plotting area\n",
    "plt.figure(0).clf()\n",
    "\n",
    "#fit logistic regression model and plot ROC curve\n",
    "model = LogisticRegression()\n",
    "model.fit(x_train, y_train)\n",
    "y_pred = model.predict_proba(x_test)[:, 1]\n",
    "fpr, tpr, _ = metrics.roc_curve(y_test, y_pred)\n",
    "auc = round(metrics.roc_auc_score(y_test, y_pred), 4)\n",
    "plt.plot(fpr,tpr,label=\"Logistic Regression, AUC=\"+str(auc))\n",
    "\n",
    "#fit random forest model and plot ROC curve\n",
    "model = RandomForestClassifier()\n",
    "model.fit(x_train , y_train);\n",
    "y_pred = model.predict_proba(x_test)[:, 1]\n",
    "fpr, tpr, _ = metrics.roc_curve(y_test, y_pred)\n",
    "auc = round(metrics.roc_auc_score(y_test, y_pred), 4)\n",
    "plt.plot(fpr,tpr,label=\"Random Forest, AUC=\"+str(auc))\n",
    "\n",
    "#fit AdaBoost model and plot ROC curve\n",
    "model = AdaBoostClassifier()\n",
    "model.fit(x_train, y_train)\n",
    "y_pred = model.predict_proba(x_test)[:, 1]\n",
    "fpr, tpr, _ = metrics.roc_curve(y_test, y_pred)\n",
    "auc = round(metrics.roc_auc_score(y_test, y_pred), 4)\n",
    "plt.plot(fpr,tpr,label=\"AdaBoost, AUC=\"+str(auc))\n",
    "\n",
    "#fit XGBoost model and plot ROC curve\n",
    "model = XGBClassifier()\n",
    "model.fit(x_train, y_train)\n",
    "y_pred = model.predict_proba(x_test)[:, 1]\n",
    "fpr, tpr, _ = metrics.roc_curve(y_test, y_pred)\n",
    "auc = round(metrics.roc_auc_score(y_test, y_pred), 4)\n",
    "plt.plot(fpr,tpr,label=\"XGBoost, AUC=\"+str(auc))\n",
    "\n",
    "#fit EasyEnsemble model and plot ROC curve\n",
    "model = EasyEnsembleClassifier()\n",
    "model.fit(x_train, y_train)\n",
    "y_pred = model.predict_proba(x_test)[:, 1]\n",
    "fpr, tpr, _ = metrics.roc_curve(y_test, y_pred)\n",
    "auc = round(metrics.roc_auc_score(y_test, y_pred), 4)\n",
    "plt.plot(fpr,tpr,label=\"Easy Ensemble, AUC=\"+str(auc))\n",
    "\n",
    "#add legend\n",
    "plt.legend()\n",
    "plt.show()"
   ]
  },
  {
   "cell_type": "markdown",
   "metadata": {},
   "source": [
    "Again the Random Forest model is the best performing with AUC = 0.9812. This means the model can distinguish the patients with heart disease and those who don’t 98% of the time."
   ]
  },
  {
   "cell_type": "markdown",
   "metadata": {},
   "source": [
    "# Feature importance"
   ]
  },
  {
   "cell_type": "markdown",
   "metadata": {},
   "source": [
    "Investigating feature importance of the Random Forest model"
   ]
  },
  {
   "cell_type": "code",
   "execution_count": 59,
   "metadata": {},
   "outputs": [],
   "source": [
    "clf = RandomForestClassifier(random_state=42).fit(x_train, y_train)"
   ]
  },
  {
   "cell_type": "code",
   "execution_count": 60,
   "metadata": {},
   "outputs": [],
   "source": [
    "y_pred = clf.predict(x_test)"
   ]
  },
  {
   "cell_type": "code",
   "execution_count": 61,
   "metadata": {},
   "outputs": [
    {
     "data": {
      "text/plain": [
       "array([0.12112548, 0.06751641, 0.01418398, 0.04305468, 0.03016545,\n",
       "       0.02724462, 0.06663348, 0.08138912, 0.18652394, 0.02747427,\n",
       "       0.03938925, 0.05192652, 0.02153039, 0.01952429, 0.02240325,\n",
       "       0.03811929, 0.0332077 , 0.02064358, 0.02845275, 0.00182991,\n",
       "       0.00127181, 0.00698168, 0.00799279, 0.04141535])"
      ]
     },
     "execution_count": 61,
     "metadata": {},
     "output_type": "execute_result"
    }
   ],
   "source": [
    "clf.feature_importances_"
   ]
  },
  {
   "cell_type": "code",
   "execution_count": 62,
   "metadata": {},
   "outputs": [],
   "source": [
    "feature_importances = pd.DataFrame(clf.feature_importances_,index = data.columns[1:],columns=['importance']).sort_values('importance',ascending=False)\n"
   ]
  },
  {
   "cell_type": "code",
   "execution_count": 64,
   "metadata": {},
   "outputs": [],
   "source": [
    "df = pd.DataFrame({'Feature name':data.columns[1:], 'Importance':clf.feature_importances_}).sort_values('Importance')"
   ]
  },
  {
   "cell_type": "code",
   "execution_count": 65,
   "metadata": {},
   "outputs": [
    {
     "data": {
      "image/png": "[encoded data removed]",
      "text/plain": [
       "<Figure size 640x480 with 1 Axes>"
      ]
     },
     "metadata": {},
     "output_type": "display_data"
    }
   ],
   "source": [
    "plt.barh(df['Feature name'], df['Importance'])\n",
    "plt.show()"
   ]
  },
  {
   "cell_type": "markdown",
   "metadata": {},
   "source": [
    "Increasing age, BMI, being male (male=1), smoking and difficuly walking are the most importance features in the final model.\n",
    "\n",
    "Interestingly all races except white were the last significant factors.\n",
    "\n",
    "I tested dropping the least important fetures and running the Random Forest model, but this did not improve the performance of the model on the test data."
   ]
  },
  {
   "cell_type": "markdown",
   "metadata": {},
   "source": [
    "# Conclusion"
   ]
  },
  {
   "cell_type": "markdown",
   "metadata": {},
   "source": [
    "Working with an imbalanced dataset was improved by balancing with SMOTE.\n",
    "\n",
    "The bagging method of Random Forest outperformed the other models on the most important evaluation metrics of recall, F1 score and AUC.\n"
   ]
  },
  {
   "cell_type": "code",
   "execution_count": null,
   "metadata": {},
   "outputs": [],
   "source": []
  }
 ],
 "metadata": {
  "kernelspec": {
   "display_name": "Python 3 (ipykernel)",
   "language": "python",
   "name": "python3"
  },
  "language_info": {
   "codemirror_mode": {
    "name": "ipython",
    "version": 3
   },
   "file_extension": ".py",
   "mimetype": "text/x-python",
   "name": "python",
   "nbconvert_exporter": "python",
   "pygments_lexer": "ipython3",
   "version": "3.11.5"
  }
 },
 "nbformat": 4,
 "nbformat_minor": 2
}
